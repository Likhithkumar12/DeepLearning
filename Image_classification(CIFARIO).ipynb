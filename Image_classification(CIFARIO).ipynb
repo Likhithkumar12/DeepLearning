{
 "cells": [
  {
   "cell_type": "code",
   "execution_count": 1,
   "id": "7cc58fc5-1ffd-480e-b458-4d470a2882af",
   "metadata": {},
   "outputs": [],
   "source": [
    "import tensorflow as tf\n",
    "from tensorflow.keras import datasets,layers,models\n",
    "import pandas as pd\n",
    "import numpy as np\n",
    "import matplotlib.pyplot as plt"
   ]
  },
  {
   "cell_type": "code",
   "execution_count": 2,
   "id": "ebbd893b-1eb5-4b5f-a1ca-710c46abc271",
   "metadata": {},
   "outputs": [],
   "source": [
    "(x_train,y_train),(x_test,y_test)=datasets.cifar10.load_data()"
   ]
  },
  {
   "cell_type": "code",
   "execution_count": 3,
   "id": "f27a08b9-8d6a-4787-859e-77eb35232b5b",
   "metadata": {},
   "outputs": [
    {
     "data": {
      "text/plain": [
       "((50000, 32, 32, 3), (10000, 32, 32, 3))"
      ]
     },
     "execution_count": 3,
     "metadata": {},
     "output_type": "execute_result"
    }
   ],
   "source": [
    "x_train.shape,x_test.shape"
   ]
  },
  {
   "cell_type": "code",
   "execution_count": 4,
   "id": "99f175e7-0a1c-4d10-a89a-f08b672a41e2",
   "metadata": {},
   "outputs": [
    {
     "data": {
      "text/plain": [
       "array([[6],\n",
       "       [9],\n",
       "       [9],\n",
       "       [4],\n",
       "       [1]], dtype=uint8)"
      ]
     },
     "execution_count": 4,
     "metadata": {},
     "output_type": "execute_result"
    }
   ],
   "source": [
    "y_train[:5]"
   ]
  },
  {
   "cell_type": "code",
   "execution_count": 5,
   "id": "05075a97-f450-433f-9a40-7ab1b1c64728",
   "metadata": {},
   "outputs": [
    {
     "data": {
      "text/plain": [
       "array([6, 9, 9, 4, 1], dtype=uint8)"
      ]
     },
     "execution_count": 5,
     "metadata": {},
     "output_type": "execute_result"
    }
   ],
   "source": [
    "y_train=y_train.reshape(-1,)\n",
    "y_train[:5]"
   ]
  },
  {
   "cell_type": "code",
   "execution_count": 6,
   "id": "2dd86e82-5023-4785-be93-f85fd45714e0",
   "metadata": {},
   "outputs": [],
   "source": [
    "classes=['airplane','automobile','bird','cat','deer','dog','frog','horseship','truck']\t\t\t"
   ]
  },
  {
   "cell_type": "code",
   "execution_count": 7,
   "id": "4c183900-1577-4d0a-97c7-ccf0a0dbea48",
   "metadata": {},
   "outputs": [
    {
     "data": {
      "image/png": "[encoded data removed]",
      "text/plain": [
       "<Figure size 1000x200 with 1 Axes>"
      ]
     },
     "metadata": {},
     "output_type": "display_data"
    }
   ],
   "source": [
    "def image_show(x,y,index):\n",
    "  plt.figure(figsize=(10,2))\n",
    "  plt.imshow(x[index])\n",
    "  plt.xlabel(classes[index])\n",
    "image_show(x_train,y_train,0)"
   ]
  },
  {
   "cell_type": "code",
   "execution_count": 8,
   "id": "d9fe0a5e-fea2-4370-a742-d351389d9d98",
   "metadata": {},
   "outputs": [
    {
     "data": {
      "image/png": "[encoded data removed]",
      "text/plain": [
       "<Figure size 1000x200 with 1 Axes>"
      ]
     },
     "metadata": {},
     "output_type": "display_data"
    }
   ],
   "source": [
    "image_show(x_train,y_train,3)"
   ]
  },
  {
   "cell_type": "code",
   "execution_count": 9,
   "id": "38b6a56d-1713-4aff-8b08-e1d19160442d",
   "metadata": {},
   "outputs": [],
   "source": [
    "x_train=x_train/255\n",
    "x_test=x_test/255"
   ]
  },
  {
   "cell_type": "code",
   "execution_count": 10,
   "id": "cb3cf2a5-388c-474a-adba-d761824e6f24",
   "metadata": {},
   "outputs": [
    {
     "name": "stdout",
     "output_type": "stream",
     "text": [
      "Epoch 1/5\n",
      "1563/1563 [==============================] - 183s 117ms/step - loss: 1.8039 - accuracy: 0.3592\n",
      "Epoch 2/5\n",
      "1563/1563 [==============================] - 180s 115ms/step - loss: 1.6122 - accuracy: 0.4325\n",
      "Epoch 3/5\n",
      "1563/1563 [==============================] - 175s 112ms/step - loss: 1.5303 - accuracy: 0.4607\n",
      "Epoch 4/5\n",
      "1563/1563 [==============================] - 182s 116ms/step - loss: 1.4671 - accuracy: 0.4837\n",
      "Epoch 5/5\n",
      "1563/1563 [==============================] - 164s 105ms/step - loss: 1.4169 - accuracy: 0.5035\n"
     ]
    },
    {
     "data": {
      "text/plain": [
       "<keras.src.callbacks.History at 0x21bd0d16650>"
      ]
     },
     "execution_count": 10,
     "metadata": {},
     "output_type": "execute_result"
    }
   ],
   "source": [
    "#ARTIFICAL NEURAL NETWORK\n",
    "ann=models.Sequential([\n",
    "    layers.Flatten(input_shape=(32,32,3)),\n",
    "    layers.Dense(5000,activation='relu'),\n",
    "    layers.Dense(3000,activation='relu'),\n",
    "    layers.Dense(10,activation='sigmoid'),\n",
    "])\n",
    "ann.compile(optimizer='SGD',\n",
    "            loss='sparse_categorical_crossentropy',\n",
    "            metrics=['accuracy']\n",
    "           )\n",
    "ann.fit(x_train,y_train,epochs=5)\n",
    "                 \n",
    "    "
   ]
  }
 ],
 "metadata": {
  "kernelspec": {
   "display_name": "Python 3 (ipykernel)",
   "language": "python",
   "name": "python3"
  },
  "language_info": {
   "codemirror_mode": {
    "name": "ipython",
    "version": 3
   },
   "file_extension": ".py",
   "mimetype": "text/x-python",
   "name": "python",
   "nbconvert_exporter": "python",
   "pygments_lexer": "ipython3",
   "version": "3.11.4"
  }
 },
 "nbformat": 4,
 "nbformat_minor": 5
}
